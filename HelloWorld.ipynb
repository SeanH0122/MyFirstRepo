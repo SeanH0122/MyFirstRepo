{
 "cells": [
  {
   "cell_type": "code",
   "execution_count": 1,
   "id": "a0a015e0-d699-488f-a7d4-801bfb864436",
   "metadata": {},
   "outputs": [
    {
     "name": "stdout",
     "output_type": "stream",
     "text": [
      "Hello World\n"
     ]
    }
   ],
   "source": [
    "print('Hello World')"
   ]
  },
  {
   "cell_type": "markdown",
   "id": "e6893ae5-f632-4111-9522-8623250a082d",
   "metadata": {},
   "source": [
    "# My First Markdown Heading"
   ]
  },
  {
   "cell_type": "code",
   "execution_count": 2,
   "id": "ee3a99e7-97c2-4206-a26e-5bd117b10589",
   "metadata": {},
   "outputs": [],
   "source": [
    "## My Second Markdown Heading"
   ]
  },
  {
   "cell_type": "markdown",
   "id": "b6ad16c8-2665-4d92-abe0-e1dd770996b2",
   "metadata": {},
   "source": [
    "## My Second Markdown Heading\n"
   ]
  },
  {
   "cell_type": "markdown",
   "id": "e102d19f-345a-4276-9550-51b081d05357",
   "metadata": {},
   "source": [
    "This is some **bold** text"
   ]
  },
  {
   "cell_type": "markdown",
   "id": "fdec1396-6983-43ac-b394-d856ff518225",
   "metadata": {},
   "source": [
    "1. First item\n",
    "2. Second item\n",
    "3. Third item"
   ]
  },
  {
   "cell_type": "code",
   "execution_count": 3,
   "id": "8e90e635-d1be-421a-a389-0d7e596770c4",
   "metadata": {},
   "outputs": [],
   "source": [
    "my_var = 5"
   ]
  },
  {
   "cell_type": "code",
   "execution_count": 4,
   "id": "4ea468c6-907d-4816-8348-20889e57ab73",
   "metadata": {},
   "outputs": [],
   "source": [
    "result = my_var*5"
   ]
  },
  {
   "cell_type": "code",
   "execution_count": 5,
   "id": "62fc9212-ff4b-45a2-ad12-7322056757f0",
   "metadata": {},
   "outputs": [
    {
     "name": "stdout",
     "output_type": "stream",
     "text": [
      "25\n"
     ]
    }
   ],
   "source": [
    "print(result)\n"
   ]
  },
  {
   "cell_type": "code",
   "execution_count": null,
   "id": "40896bee-f283-40d5-a7ac-2e9027ff6bfe",
   "metadata": {},
   "outputs": [],
   "source": []
  }
 ],
 "metadata": {
  "kernelspec": {
   "display_name": "Python 3 (ipykernel)",
   "language": "python",
   "name": "python3"
  },
  "language_info": {
   "codemirror_mode": {
    "name": "ipython",
    "version": 3
   },
   "file_extension": ".py",
   "mimetype": "text/x-python",
   "name": "python",
   "nbconvert_exporter": "python",
   "pygments_lexer": "ipython3",
   "version": "3.10.9"
  }
 },
 "nbformat": 4,
 "nbformat_minor": 5
}
